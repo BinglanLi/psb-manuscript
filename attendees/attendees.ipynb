{
 "cells": [
  {
   "cell_type": "markdown",
   "metadata": {},
   "source": [
    "# Create author metadata & markdown section templates with PSB attendees"
   ]
  },
  {
   "cell_type": "code",
   "execution_count": 1,
   "metadata": {},
   "outputs": [],
   "source": [
    "import re\n",
    "\n",
    "import tika.parser\n",
    "import yaml"
   ]
  },
  {
   "cell_type": "markdown",
   "metadata": {},
   "source": [
    "## Read PDF to text and parse\n",
    "\n",
    "`attendees.pdf` was downloaded from https://psb.stanford.edu/conference-materials/attendees.pdf."
   ]
  },
  {
   "cell_type": "code",
   "execution_count": 2,
   "metadata": {},
   "outputs": [],
   "source": [
    "# https://stackoverflow.com/a/48673754\n",
    "parsed = tika.parser.from_file('attendees.pdf')\n",
    "text = parsed[\"content\"]"
   ]
  },
  {
   "cell_type": "code",
   "execution_count": 3,
   "metadata": {},
   "outputs": [],
   "source": [
    "text = '\\n'.join(line.strip() for line in text.splitlines())\n",
    "stanzas = re.split(r\"\\n\\n+\", text)"
   ]
  },
  {
   "cell_type": "code",
   "execution_count": 4,
   "metadata": {},
   "outputs": [],
   "source": [
    "remove = {\n",
    "    '',\n",
    "    'PSB participant list2',\n",
    "    'Pacific Symposium on Biocomputing 2019\\nParticipant List',\n",
    "    'as of December 6, 2018',\n",
    "}\n",
    "stanzas = [stanza for stanza in stanzas if stanza not in remove]"
   ]
  },
  {
   "cell_type": "markdown",
   "metadata": {},
   "source": [
    "## Create author metadata.yaml template"
   ]
  },
  {
   "cell_type": "code",
   "execution_count": 5,
   "metadata": {},
   "outputs": [],
   "source": [
    "author_template = {\n",
    "    'name': None,\n",
    "    'orcid': None,\n",
    "    'github': None,\n",
    "    'twitter': None,\n",
    "    'affiliations': [],\n",
    "}"
   ]
  },
  {
   "cell_type": "code",
   "execution_count": 6,
   "metadata": {},
   "outputs": [],
   "source": [
    "author_metadata = list()\n",
    "for stanza in stanzas:\n",
    "    name, affiliation = stanza.split('\\n', 1)\n",
    "    affiliation = ' '.join(affiliation.split())\n",
    "    author = author_template.copy()\n",
    "    author['name'] = name\n",
    "    author['affiliations'] = [affiliation]\n",
    "    author_metadata.append(author)"
   ]
  },
  {
   "cell_type": "code",
   "execution_count": 7,
   "metadata": {},
   "outputs": [
    {
     "data": {
      "text/plain": [
       "[{'name': 'Max Alekseyev',\n",
       "  'orcid': None,\n",
       "  'github': None,\n",
       "  'twitter': None,\n",
       "  'affiliations': ['George Washington University']},\n",
       " {'name': 'Russ Altman',\n",
       "  'orcid': None,\n",
       "  'github': None,\n",
       "  'twitter': None,\n",
       "  'affiliations': ['Stanford University']}]"
      ]
     },
     "execution_count": 7,
     "metadata": {},
     "output_type": "execute_result"
    }
   ],
   "source": [
    "author_metadata[:2]"
   ]
  },
  {
   "cell_type": "code",
   "execution_count": 8,
   "metadata": {},
   "outputs": [],
   "source": [
    "# Respect dictionary order https://stackoverflow.com/a/52621703/4651668\n",
    "yaml.add_representer(dict, lambda self, data: yaml.representer.SafeRepresenter.represent_dict(self, data.items()))\n",
    "\n",
    "with open('author-metadata.yaml', 'w') as write_file:\n",
    "    yaml.dump(author_metadata, write_file, default_flow_style=False)"
   ]
  },
  {
   "cell_type": "markdown",
   "metadata": {},
   "source": [
    "## Create markdown section template"
   ]
  },
  {
   "cell_type": "code",
   "execution_count": 9,
   "metadata": {},
   "outputs": [],
   "source": [
    "with open('author-sections.md', 'w') as write_file:\n",
    "    for author in author_metadata:\n",
    "        write_file.write(f'<!-- {author[\"name\"]} -->\\n\\n\\n\\n')"
   ]
  }
 ],
 "metadata": {
  "kernelspec": {
   "display_name": "Python [conda env:anaconda3]",
   "language": "python",
   "name": "conda-env-anaconda3-py"
  },
  "language_info": {
   "codemirror_mode": {
    "name": "ipython",
    "version": 3
   },
   "file_extension": ".py",
   "mimetype": "text/x-python",
   "name": "python",
   "nbconvert_exporter": "python",
   "pygments_lexer": "ipython3",
   "version": "3.6.5"
  }
 },
 "nbformat": 4,
 "nbformat_minor": 2
}
